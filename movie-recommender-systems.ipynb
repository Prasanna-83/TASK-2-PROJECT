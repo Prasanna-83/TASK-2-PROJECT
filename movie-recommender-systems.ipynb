{
 "cells": [
  {
   "cell_type": "markdown",
   "id": "701f83b1",
   "metadata": {
    "_cell_guid": "da447453-96e3-48fe-93cd-b9195433add6",
    "_uuid": "b63091dc0b9d04f19ab8861754a83b79c1789e96",
    "papermill": {
     "duration": 0.013224,
     "end_time": "2023-05-22T14:47:21.108155",
     "exception": false,
     "start_time": "2023-05-22T14:47:21.094931",
     "status": "completed"
    },
    "tags": []
   },
   "source": [
    "# Movies Recommender System"
   ]
  },
  {
   "cell_type": "code",
   "execution_count": 1,
   "id": "de682e20",
   "metadata": {
    "_cell_guid": "78fea705-f9ad-4a81-aafd-8b7b624110d1",
    "_uuid": "1c291fe3725c706e0003f01f0102abb9709f25fc",
    "execution": {
     "iopub.execute_input": "2023-05-22T14:47:21.136396Z",
     "iopub.status.busy": "2023-05-22T14:47:21.135874Z",
     "iopub.status.idle": "2023-05-22T14:47:23.309311Z",
     "shell.execute_reply": "2023-05-22T14:47:23.308188Z"
    },
    "papermill": {
     "duration": 2.190954,
     "end_time": "2023-05-22T14:47:23.311976",
     "exception": false,
     "start_time": "2023-05-22T14:47:21.121022",
     "status": "completed"
    },
    "tags": []
   },
   "outputs": [
    {
     "name": "stderr",
     "output_type": "stream",
     "text": [
      "/opt/conda/lib/python3.10/site-packages/scipy/__init__.py:146: UserWarning: A NumPy version >=1.16.5 and <1.23.0 is required for this version of SciPy (detected version 1.23.5\n",
      "  warnings.warn(f\"A NumPy version >={np_minversion} and <{np_maxversion}\"\n"
     ]
    }
   ],
   "source": [
    "%matplotlib inline\n",
    "import pandas as pd\n",
    "import numpy as np\n",
    "import matplotlib.pyplot as plt\n",
    "import seaborn as sns\n",
    "from scipy import stats\n",
    "from ast import literal_eval\n",
    "from sklearn.feature_extraction.text import TfidfVectorizer, CountVectorizer\n",
    "from sklearn.metrics.pairwise import linear_kernel, cosine_similarity\n",
    "from nltk.stem.snowball import SnowballStemmer\n",
    "from nltk.stem.wordnet import WordNetLemmatizer\n",
    "from nltk.corpus import wordnet\n",
    "from surprise import Reader, Dataset, SVD\n",
    "from surprise.model_selection import cross_validate\n",
    "\n",
    "import warnings; warnings.simplefilter('ignore')"
   ]
  },
  {
   "cell_type": "markdown",
   "id": "81375b81",
   "metadata": {
    "papermill": {
     "duration": 0.012023,
     "end_time": "2023-05-22T14:47:23.336546",
     "exception": false,
     "start_time": "2023-05-22T14:47:23.324523",
     "status": "completed"
    },
    "tags": []
   },
   "source": [
    "### The-Movies-dataset\n",
    "Reading the datset "
   ]
  },
  {
   "cell_type": "code",
   "execution_count": 2,
   "id": "74c3807d",
   "metadata": {
    "_cell_guid": "0356d2a0-d8b2-4234-af78-bd51eaa3a390",
    "_uuid": "e0d62612bc9b9e9561afdc48fd1e75a9b0c82337",
    "execution": {
     "iopub.execute_input": "2023-05-22T14:47:23.363228Z",
     "iopub.status.busy": "2023-05-22T14:47:23.362797Z",
     "iopub.status.idle": "2023-05-22T14:47:24.738436Z",
     "shell.execute_reply": "2023-05-22T14:47:24.737406Z"
    },
    "papermill": {
     "duration": 1.392319,
     "end_time": "2023-05-22T14:47:24.741203",
     "exception": false,
     "start_time": "2023-05-22T14:47:23.348884",
     "status": "completed"
    },
    "tags": []
   },
   "outputs": [
    {
     "data": {
      "text/html": [
       "<div>\n",
       "<style scoped>\n",
       "    .dataframe tbody tr th:only-of-type {\n",
       "        vertical-align: middle;\n",
       "    }\n",
       "\n",
       "    .dataframe tbody tr th {\n",
       "        vertical-align: top;\n",
       "    }\n",
       "\n",
       "    .dataframe thead th {\n",
       "        text-align: right;\n",
       "    }\n",
       "</style>\n",
       "<table border=\"1\" class=\"dataframe\">\n",
       "  <thead>\n",
       "    <tr style=\"text-align: right;\">\n",
       "      <th></th>\n",
       "      <th>adult</th>\n",
       "      <th>belongs_to_collection</th>\n",
       "      <th>budget</th>\n",
       "      <th>genres</th>\n",
       "      <th>homepage</th>\n",
       "      <th>id</th>\n",
       "      <th>imdb_id</th>\n",
       "      <th>original_language</th>\n",
       "      <th>original_title</th>\n",
       "      <th>overview</th>\n",
       "      <th>...</th>\n",
       "      <th>release_date</th>\n",
       "      <th>revenue</th>\n",
       "      <th>runtime</th>\n",
       "      <th>spoken_languages</th>\n",
       "      <th>status</th>\n",
       "      <th>tagline</th>\n",
       "      <th>title</th>\n",
       "      <th>video</th>\n",
       "      <th>vote_average</th>\n",
       "      <th>vote_count</th>\n",
       "    </tr>\n",
       "  </thead>\n",
       "  <tbody>\n",
       "    <tr>\n",
       "      <th>0</th>\n",
       "      <td>False</td>\n",
       "      <td>{'id': 10194, 'name': 'Toy Story Collection', ...</td>\n",
       "      <td>30000000</td>\n",
       "      <td>[{'id': 16, 'name': 'Animation'}, {'id': 35, '...</td>\n",
       "      <td>http://toystory.disney.com/toy-story</td>\n",
       "      <td>862</td>\n",
       "      <td>tt0114709</td>\n",
       "      <td>en</td>\n",
       "      <td>Toy Story</td>\n",
       "      <td>Led by Woody, Andy's toys live happily in his ...</td>\n",
       "      <td>...</td>\n",
       "      <td>1995-10-30</td>\n",
       "      <td>373554033.0</td>\n",
       "      <td>81.0</td>\n",
       "      <td>[{'iso_639_1': 'en', 'name': 'English'}]</td>\n",
       "      <td>Released</td>\n",
       "      <td>NaN</td>\n",
       "      <td>Toy Story</td>\n",
       "      <td>False</td>\n",
       "      <td>7.7</td>\n",
       "      <td>5415.0</td>\n",
       "    </tr>\n",
       "    <tr>\n",
       "      <th>1</th>\n",
       "      <td>False</td>\n",
       "      <td>NaN</td>\n",
       "      <td>65000000</td>\n",
       "      <td>[{'id': 12, 'name': 'Adventure'}, {'id': 14, '...</td>\n",
       "      <td>NaN</td>\n",
       "      <td>8844</td>\n",
       "      <td>tt0113497</td>\n",
       "      <td>en</td>\n",
       "      <td>Jumanji</td>\n",
       "      <td>When siblings Judy and Peter discover an encha...</td>\n",
       "      <td>...</td>\n",
       "      <td>1995-12-15</td>\n",
       "      <td>262797249.0</td>\n",
       "      <td>104.0</td>\n",
       "      <td>[{'iso_639_1': 'en', 'name': 'English'}, {'iso...</td>\n",
       "      <td>Released</td>\n",
       "      <td>Roll the dice and unleash the excitement!</td>\n",
       "      <td>Jumanji</td>\n",
       "      <td>False</td>\n",
       "      <td>6.9</td>\n",
       "      <td>2413.0</td>\n",
       "    </tr>\n",
       "    <tr>\n",
       "      <th>2</th>\n",
       "      <td>False</td>\n",
       "      <td>{'id': 119050, 'name': 'Grumpy Old Men Collect...</td>\n",
       "      <td>0</td>\n",
       "      <td>[{'id': 10749, 'name': 'Romance'}, {'id': 35, ...</td>\n",
       "      <td>NaN</td>\n",
       "      <td>15602</td>\n",
       "      <td>tt0113228</td>\n",
       "      <td>en</td>\n",
       "      <td>Grumpier Old Men</td>\n",
       "      <td>A family wedding reignites the ancient feud be...</td>\n",
       "      <td>...</td>\n",
       "      <td>1995-12-22</td>\n",
       "      <td>0.0</td>\n",
       "      <td>101.0</td>\n",
       "      <td>[{'iso_639_1': 'en', 'name': 'English'}]</td>\n",
       "      <td>Released</td>\n",
       "      <td>Still Yelling. Still Fighting. Still Ready for...</td>\n",
       "      <td>Grumpier Old Men</td>\n",
       "      <td>False</td>\n",
       "      <td>6.5</td>\n",
       "      <td>92.0</td>\n",
       "    </tr>\n",
       "    <tr>\n",
       "      <th>3</th>\n",
       "      <td>False</td>\n",
       "      <td>NaN</td>\n",
       "      <td>16000000</td>\n",
       "      <td>[{'id': 35, 'name': 'Comedy'}, {'id': 18, 'nam...</td>\n",
       "      <td>NaN</td>\n",
       "      <td>31357</td>\n",
       "      <td>tt0114885</td>\n",
       "      <td>en</td>\n",
       "      <td>Waiting to Exhale</td>\n",
       "      <td>Cheated on, mistreated and stepped on, the wom...</td>\n",
       "      <td>...</td>\n",
       "      <td>1995-12-22</td>\n",
       "      <td>81452156.0</td>\n",
       "      <td>127.0</td>\n",
       "      <td>[{'iso_639_1': 'en', 'name': 'English'}]</td>\n",
       "      <td>Released</td>\n",
       "      <td>Friends are the people who let you be yourself...</td>\n",
       "      <td>Waiting to Exhale</td>\n",
       "      <td>False</td>\n",
       "      <td>6.1</td>\n",
       "      <td>34.0</td>\n",
       "    </tr>\n",
       "    <tr>\n",
       "      <th>4</th>\n",
       "      <td>False</td>\n",
       "      <td>{'id': 96871, 'name': 'Father of the Bride Col...</td>\n",
       "      <td>0</td>\n",
       "      <td>[{'id': 35, 'name': 'Comedy'}]</td>\n",
       "      <td>NaN</td>\n",
       "      <td>11862</td>\n",
       "      <td>tt0113041</td>\n",
       "      <td>en</td>\n",
       "      <td>Father of the Bride Part II</td>\n",
       "      <td>Just when George Banks has recovered from his ...</td>\n",
       "      <td>...</td>\n",
       "      <td>1995-02-10</td>\n",
       "      <td>76578911.0</td>\n",
       "      <td>106.0</td>\n",
       "      <td>[{'iso_639_1': 'en', 'name': 'English'}]</td>\n",
       "      <td>Released</td>\n",
       "      <td>Just When His World Is Back To Normal... He's ...</td>\n",
       "      <td>Father of the Bride Part II</td>\n",
       "      <td>False</td>\n",
       "      <td>5.7</td>\n",
       "      <td>173.0</td>\n",
       "    </tr>\n",
       "  </tbody>\n",
       "</table>\n",
       "<p>5 rows × 24 columns</p>\n",
       "</div>"
      ],
      "text/plain": [
       "   adult                              belongs_to_collection    budget  \\\n",
       "0  False  {'id': 10194, 'name': 'Toy Story Collection', ...  30000000   \n",
       "1  False                                                NaN  65000000   \n",
       "2  False  {'id': 119050, 'name': 'Grumpy Old Men Collect...         0   \n",
       "3  False                                                NaN  16000000   \n",
       "4  False  {'id': 96871, 'name': 'Father of the Bride Col...         0   \n",
       "\n",
       "                                              genres  \\\n",
       "0  [{'id': 16, 'name': 'Animation'}, {'id': 35, '...   \n",
       "1  [{'id': 12, 'name': 'Adventure'}, {'id': 14, '...   \n",
       "2  [{'id': 10749, 'name': 'Romance'}, {'id': 35, ...   \n",
       "3  [{'id': 35, 'name': 'Comedy'}, {'id': 18, 'nam...   \n",
       "4                     [{'id': 35, 'name': 'Comedy'}]   \n",
       "\n",
       "                               homepage     id    imdb_id original_language  \\\n",
       "0  http://toystory.disney.com/toy-story    862  tt0114709                en   \n",
       "1                                   NaN   8844  tt0113497                en   \n",
       "2                                   NaN  15602  tt0113228                en   \n",
       "3                                   NaN  31357  tt0114885                en   \n",
       "4                                   NaN  11862  tt0113041                en   \n",
       "\n",
       "                original_title  \\\n",
       "0                    Toy Story   \n",
       "1                      Jumanji   \n",
       "2             Grumpier Old Men   \n",
       "3            Waiting to Exhale   \n",
       "4  Father of the Bride Part II   \n",
       "\n",
       "                                            overview  ... release_date  \\\n",
       "0  Led by Woody, Andy's toys live happily in his ...  ...   1995-10-30   \n",
       "1  When siblings Judy and Peter discover an encha...  ...   1995-12-15   \n",
       "2  A family wedding reignites the ancient feud be...  ...   1995-12-22   \n",
       "3  Cheated on, mistreated and stepped on, the wom...  ...   1995-12-22   \n",
       "4  Just when George Banks has recovered from his ...  ...   1995-02-10   \n",
       "\n",
       "       revenue runtime                                   spoken_languages  \\\n",
       "0  373554033.0    81.0           [{'iso_639_1': 'en', 'name': 'English'}]   \n",
       "1  262797249.0   104.0  [{'iso_639_1': 'en', 'name': 'English'}, {'iso...   \n",
       "2          0.0   101.0           [{'iso_639_1': 'en', 'name': 'English'}]   \n",
       "3   81452156.0   127.0           [{'iso_639_1': 'en', 'name': 'English'}]   \n",
       "4   76578911.0   106.0           [{'iso_639_1': 'en', 'name': 'English'}]   \n",
       "\n",
       "     status                                            tagline  \\\n",
       "0  Released                                                NaN   \n",
       "1  Released          Roll the dice and unleash the excitement!   \n",
       "2  Released  Still Yelling. Still Fighting. Still Ready for...   \n",
       "3  Released  Friends are the people who let you be yourself...   \n",
       "4  Released  Just When His World Is Back To Normal... He's ...   \n",
       "\n",
       "                         title  video vote_average vote_count  \n",
       "0                    Toy Story  False          7.7     5415.0  \n",
       "1                      Jumanji  False          6.9     2413.0  \n",
       "2             Grumpier Old Men  False          6.5       92.0  \n",
       "3            Waiting to Exhale  False          6.1       34.0  \n",
       "4  Father of the Bride Part II  False          5.7      173.0  \n",
       "\n",
       "[5 rows x 24 columns]"
      ]
     },
     "execution_count": 2,
     "metadata": {},
     "output_type": "execute_result"
    }
   ],
   "source": [
    "movie_data = pd. read_csv('../input/movies_metadata.csv')\n",
    "movie_data.head()"
   ]
  },
  {
   "cell_type": "markdown",
   "id": "c47f424a",
   "metadata": {
    "papermill": {
     "duration": 0.012556,
     "end_time": "2023-05-22T14:47:24.766685",
     "exception": false,
     "start_time": "2023-05-22T14:47:24.754129",
     "status": "completed"
    },
    "tags": []
   },
   "source": [
    "### prepocessing the data"
   ]
  },
  {
   "cell_type": "code",
   "execution_count": 3,
   "id": "223a231c",
   "metadata": {
    "_cell_guid": "f933a861-409a-4df7-98f1-7960a2a3874b",
    "_uuid": "d4df4c2158595611f2ea7ad4b16f71900e529ea8",
    "execution": {
     "iopub.execute_input": "2023-05-22T14:47:24.795054Z",
     "iopub.status.busy": "2023-05-22T14:47:24.793975Z",
     "iopub.status.idle": "2023-05-22T14:47:26.598944Z",
     "shell.execute_reply": "2023-05-22T14:47:26.598053Z"
    },
    "papermill": {
     "duration": 1.822174,
     "end_time": "2023-05-22T14:47:26.601732",
     "exception": false,
     "start_time": "2023-05-22T14:47:24.779558",
     "status": "completed"
    },
    "tags": []
   },
   "outputs": [],
   "source": [
    "from ast import literal_eval\n",
    "movie_data['genres'] = movie_data['genres'].fillna('[]').apply(literal_eval).apply(lambda x: [i['name'] for i in x] if isinstance(x, list) else [])"
   ]
  },
  {
   "cell_type": "code",
   "execution_count": 4,
   "id": "1f444c2d",
   "metadata": {
    "execution": {
     "iopub.execute_input": "2023-05-22T14:47:26.630717Z",
     "iopub.status.busy": "2023-05-22T14:47:26.629611Z",
     "iopub.status.idle": "2023-05-22T14:47:26.639602Z",
     "shell.execute_reply": "2023-05-22T14:47:26.638554Z"
    },
    "papermill": {
     "duration": 0.027141,
     "end_time": "2023-05-22T14:47:26.641983",
     "exception": false,
     "start_time": "2023-05-22T14:47:26.614842",
     "status": "completed"
    },
    "tags": []
   },
   "outputs": [
    {
     "data": {
      "text/plain": [
       "0     [Animation, Comedy, Family]\n",
       "1    [Adventure, Fantasy, Family]\n",
       "2               [Romance, Comedy]\n",
       "3        [Comedy, Drama, Romance]\n",
       "4                        [Comedy]\n",
       "Name: genres, dtype: object"
      ]
     },
     "execution_count": 4,
     "metadata": {},
     "output_type": "execute_result"
    }
   ],
   "source": [
    "movie_data['genres'].head()"
   ]
  },
  {
   "cell_type": "markdown",
   "id": "67d1fe31",
   "metadata": {
    "_cell_guid": "23cf39ba-ef09-4972-9d1f-ed91cb2ef134",
    "_uuid": "9571875d383f237f126febe9c76f966e2869fdc3",
    "papermill": {
     "duration": 0.012818,
     "end_time": "2023-05-22T14:47:26.667964",
     "exception": false,
     "start_time": "2023-05-22T14:47:26.655146",
     "status": "completed"
    },
    "tags": []
   },
   "source": [
    "\n",
    "Weighted Rating (WR) = $(\\frac{v}{v + m} . R) + (\\frac{m}{v + m} . C)$\n",
    "\n",
    "where,\n",
    "* *v* is the number of votes for the movie\n",
    "* *m* is the minimum votes required to be listed in the chart\n",
    "* *R* is the average rating of the movie\n",
    "* *C* is the mean vote across the whole report\n",
    "\n"
   ]
  },
  {
   "cell_type": "code",
   "execution_count": 5,
   "id": "f2c94631",
   "metadata": {
    "_cell_guid": "de5d2a9a-9d67-4309-9256-844756318bd0",
    "_uuid": "1e732487caba09d9543f3da49cbe7ff5092e2675",
    "execution": {
     "iopub.execute_input": "2023-05-22T14:47:26.696141Z",
     "iopub.status.busy": "2023-05-22T14:47:26.695716Z",
     "iopub.status.idle": "2023-05-22T14:47:26.785903Z",
     "shell.execute_reply": "2023-05-22T14:47:26.784652Z"
    },
    "papermill": {
     "duration": 0.107451,
     "end_time": "2023-05-22T14:47:26.788587",
     "exception": false,
     "start_time": "2023-05-22T14:47:26.681136",
     "status": "completed"
    },
    "tags": []
   },
   "outputs": [
    {
     "data": {
      "text/plain": [
       "5.244896612406511"
      ]
     },
     "execution_count": 5,
     "metadata": {},
     "output_type": "execute_result"
    }
   ],
   "source": [
    "vote_data = movie_data[movie_data['vote_count'].notnull()]['vote_count'].astype('int')\n",
    "vote_averages = movie_data[movie_data['vote_average'].notnull()]['vote_average'].astype('int')\n",
    "C = vote_averages.mean()\n",
    "C"
   ]
  },
  {
   "cell_type": "code",
   "execution_count": 6,
   "id": "5e89b11b",
   "metadata": {
    "_cell_guid": "f2a3dff7-6430-471b-bd83-589779ab52b0",
    "_uuid": "23c2e113380f1bad9205ab2d0f8c372b0c246e79",
    "execution": {
     "iopub.execute_input": "2023-05-22T14:47:26.817623Z",
     "iopub.status.busy": "2023-05-22T14:47:26.816509Z",
     "iopub.status.idle": "2023-05-22T14:47:26.827878Z",
     "shell.execute_reply": "2023-05-22T14:47:26.826670Z"
    },
    "papermill": {
     "duration": 0.028368,
     "end_time": "2023-05-22T14:47:26.830335",
     "exception": false,
     "start_time": "2023-05-22T14:47:26.801967",
     "status": "completed"
    },
    "tags": []
   },
   "outputs": [
    {
     "data": {
      "text/plain": [
       "434.0"
      ]
     },
     "execution_count": 6,
     "metadata": {},
     "output_type": "execute_result"
    }
   ],
   "source": [
    "m = vote_data.quantile(0.95)\n",
    "m"
   ]
  },
  {
   "cell_type": "code",
   "execution_count": 7,
   "id": "f17af659",
   "metadata": {
    "_cell_guid": "93f480df-6e7b-427c-bbc0-906fd41640b0",
    "_uuid": "dbb8261dedb84e4a8ea8bed843c9de3ad9f3859d",
    "execution": {
     "iopub.execute_input": "2023-05-22T14:47:26.859475Z",
     "iopub.status.busy": "2023-05-22T14:47:26.858624Z",
     "iopub.status.idle": "2023-05-22T14:47:27.333406Z",
     "shell.execute_reply": "2023-05-22T14:47:27.332260Z"
    },
    "papermill": {
     "duration": 0.492445,
     "end_time": "2023-05-22T14:47:27.336291",
     "exception": false,
     "start_time": "2023-05-22T14:47:26.843846",
     "status": "completed"
    },
    "tags": []
   },
   "outputs": [],
   "source": [
    "movie_data['year'] = pd.to_datetime(movie_data['release_date'], errors='coerce').apply(lambda x: str(x).split('-')[0] if x != np.nan else np.nan)"
   ]
  },
  {
   "cell_type": "code",
   "execution_count": 8,
   "id": "0dd5eead",
   "metadata": {
    "_cell_guid": "e7e91af4-7ff5-4553-bfbb-b9339096397e",
    "_uuid": "dcb30bee69ef1a6ead2c745565e5e7bfd5314d7a",
    "execution": {
     "iopub.execute_input": "2023-05-22T14:47:27.369378Z",
     "iopub.status.busy": "2023-05-22T14:47:27.368428Z",
     "iopub.status.idle": "2023-05-22T14:47:27.444511Z",
     "shell.execute_reply": "2023-05-22T14:47:27.443466Z"
    },
    "papermill": {
     "duration": 0.097289,
     "end_time": "2023-05-22T14:47:27.447022",
     "exception": false,
     "start_time": "2023-05-22T14:47:27.349733",
     "status": "completed"
    },
    "tags": []
   },
   "outputs": [
    {
     "data": {
      "text/plain": [
       "(2274, 6)"
      ]
     },
     "execution_count": 8,
     "metadata": {},
     "output_type": "execute_result"
    }
   ],
   "source": [
    "Top_movies = movie_data[(movie_data['vote_count'] >= m) & (movie_data['vote_count'].notnull()) & (movie_data['vote_average'].notnull())][['title', 'year', 'vote_count', 'vote_average', 'popularity', 'genres']]\n",
    "Top_movies['vote_count'] = Top_movies['vote_count'].astype('int')\n",
    "Top_movies['vote_average'] = Top_movies['vote_average'].astype('int')\n",
    "Top_movies.shape"
   ]
  },
  {
   "cell_type": "code",
   "execution_count": 9,
   "id": "c2ef7602",
   "metadata": {
    "_cell_guid": "db959c40-7618-4755-a05a-5347f9460929",
    "_uuid": "6414e1aa7ed8cb4184ec451f02a18cd187e5345e",
    "execution": {
     "iopub.execute_input": "2023-05-22T14:47:27.477116Z",
     "iopub.status.busy": "2023-05-22T14:47:27.476209Z",
     "iopub.status.idle": "2023-05-22T14:47:27.482857Z",
     "shell.execute_reply": "2023-05-22T14:47:27.481598Z"
    },
    "papermill": {
     "duration": 0.024998,
     "end_time": "2023-05-22T14:47:27.485916",
     "exception": false,
     "start_time": "2023-05-22T14:47:27.460918",
     "status": "completed"
    },
    "tags": []
   },
   "outputs": [],
   "source": [
    "def Expected_ratings(x):\n",
    "    v = x['vote_count']\n",
    "    R = x['vote_average']\n",
    "    return (v/(v+m) * R) + (m/(m+v) * C)"
   ]
  },
  {
   "cell_type": "code",
   "execution_count": 10,
   "id": "79e2809d",
   "metadata": {
    "_cell_guid": "0f5e4384-51be-41df-a023-12a13e77d66c",
    "_uuid": "78ec5052b0e89ae51a834aa3a305cf55b6849f42",
    "execution": {
     "iopub.execute_input": "2023-05-22T14:47:27.516481Z",
     "iopub.status.busy": "2023-05-22T14:47:27.515662Z",
     "iopub.status.idle": "2023-05-22T14:47:27.579317Z",
     "shell.execute_reply": "2023-05-22T14:47:27.578146Z"
    },
    "papermill": {
     "duration": 0.081632,
     "end_time": "2023-05-22T14:47:27.581922",
     "exception": false,
     "start_time": "2023-05-22T14:47:27.500290",
     "status": "completed"
    },
    "tags": []
   },
   "outputs": [],
   "source": [
    "Top_movies['FINAL OUTPUT'] = Top_movies.apply(Expected_ratings, axis=1)"
   ]
  },
  {
   "cell_type": "code",
   "execution_count": 11,
   "id": "231d85d9",
   "metadata": {
    "_cell_guid": "ccbd8eca-cbfe-4843-9885-de11976f117c",
    "_uuid": "ed0ac7c8483f904d4f5ec0d554096d4782fa8bcf",
    "execution": {
     "iopub.execute_input": "2023-05-22T14:47:27.613124Z",
     "iopub.status.busy": "2023-05-22T14:47:27.612174Z",
     "iopub.status.idle": "2023-05-22T14:47:27.622215Z",
     "shell.execute_reply": "2023-05-22T14:47:27.621130Z"
    },
    "papermill": {
     "duration": 0.028709,
     "end_time": "2023-05-22T14:47:27.624693",
     "exception": false,
     "start_time": "2023-05-22T14:47:27.595984",
     "status": "completed"
    },
    "tags": []
   },
   "outputs": [],
   "source": [
    "Top_movies = Top_movies.sort_values('FINAL OUTPUT', ascending=False).head(250)"
   ]
  },
  {
   "cell_type": "markdown",
   "id": "d8ec7302",
   "metadata": {
    "_cell_guid": "36a1b9ac-aff3-4d80-9e19-83a45f282062",
    "_uuid": "75eb9e1de05386d229746785a25c6a5c6ee4b61a",
    "papermill": {
     "duration": 0.013491,
     "end_time": "2023-05-22T14:47:27.652156",
     "exception": false,
     "start_time": "2023-05-22T14:47:27.638665",
     "status": "completed"
    },
    "tags": []
   },
   "source": [
    "final list\n"
   ]
  },
  {
   "cell_type": "code",
   "execution_count": 12,
   "id": "d61e1c52",
   "metadata": {
    "_cell_guid": "0bca5b03-0835-4902-aaa1-beceb9d9d47f",
    "_uuid": "f7f6821b7e9aff099b81fcc425fd20109894b351",
    "execution": {
     "iopub.execute_input": "2023-05-22T14:47:27.683083Z",
     "iopub.status.busy": "2023-05-22T14:47:27.682180Z",
     "iopub.status.idle": "2023-05-22T14:47:27.710206Z",
     "shell.execute_reply": "2023-05-22T14:47:27.709363Z"
    },
    "papermill": {
     "duration": 0.048065,
     "end_time": "2023-05-22T14:47:27.713891",
     "exception": false,
     "start_time": "2023-05-22T14:47:27.665826",
     "status": "completed"
    },
    "tags": []
   },
   "outputs": [
    {
     "data": {
      "text/html": [
       "<div>\n",
       "<style scoped>\n",
       "    .dataframe tbody tr th:only-of-type {\n",
       "        vertical-align: middle;\n",
       "    }\n",
       "\n",
       "    .dataframe tbody tr th {\n",
       "        vertical-align: top;\n",
       "    }\n",
       "\n",
       "    .dataframe thead th {\n",
       "        text-align: right;\n",
       "    }\n",
       "</style>\n",
       "<table border=\"1\" class=\"dataframe\">\n",
       "  <thead>\n",
       "    <tr style=\"text-align: right;\">\n",
       "      <th></th>\n",
       "      <th>title</th>\n",
       "      <th>year</th>\n",
       "      <th>vote_count</th>\n",
       "      <th>vote_average</th>\n",
       "      <th>popularity</th>\n",
       "      <th>genres</th>\n",
       "      <th>FINAL OUTPUT</th>\n",
       "    </tr>\n",
       "  </thead>\n",
       "  <tbody>\n",
       "    <tr>\n",
       "      <th>15480</th>\n",
       "      <td>Inception</td>\n",
       "      <td>2010</td>\n",
       "      <td>14075</td>\n",
       "      <td>8</td>\n",
       "      <td>29.108149</td>\n",
       "      <td>[Action, Thriller, Science Fiction, Mystery, A...</td>\n",
       "      <td>7.917588</td>\n",
       "    </tr>\n",
       "    <tr>\n",
       "      <th>12481</th>\n",
       "      <td>The Dark Knight</td>\n",
       "      <td>2008</td>\n",
       "      <td>12269</td>\n",
       "      <td>8</td>\n",
       "      <td>123.167259</td>\n",
       "      <td>[Drama, Action, Crime, Thriller]</td>\n",
       "      <td>7.905871</td>\n",
       "    </tr>\n",
       "    <tr>\n",
       "      <th>22879</th>\n",
       "      <td>Interstellar</td>\n",
       "      <td>2014</td>\n",
       "      <td>11187</td>\n",
       "      <td>8</td>\n",
       "      <td>32.213481</td>\n",
       "      <td>[Adventure, Drama, Science Fiction]</td>\n",
       "      <td>7.897107</td>\n",
       "    </tr>\n",
       "    <tr>\n",
       "      <th>2843</th>\n",
       "      <td>Fight Club</td>\n",
       "      <td>1999</td>\n",
       "      <td>9678</td>\n",
       "      <td>8</td>\n",
       "      <td>63.869599</td>\n",
       "      <td>[Drama]</td>\n",
       "      <td>7.881753</td>\n",
       "    </tr>\n",
       "    <tr>\n",
       "      <th>4863</th>\n",
       "      <td>The Lord of the Rings: The Fellowship of the Ring</td>\n",
       "      <td>2001</td>\n",
       "      <td>8892</td>\n",
       "      <td>8</td>\n",
       "      <td>32.070725</td>\n",
       "      <td>[Adventure, Fantasy, Action]</td>\n",
       "      <td>7.871787</td>\n",
       "    </tr>\n",
       "    <tr>\n",
       "      <th>292</th>\n",
       "      <td>Pulp Fiction</td>\n",
       "      <td>1994</td>\n",
       "      <td>8670</td>\n",
       "      <td>8</td>\n",
       "      <td>140.950236</td>\n",
       "      <td>[Thriller, Crime]</td>\n",
       "      <td>7.868660</td>\n",
       "    </tr>\n",
       "    <tr>\n",
       "      <th>314</th>\n",
       "      <td>The Shawshank Redemption</td>\n",
       "      <td>1994</td>\n",
       "      <td>8358</td>\n",
       "      <td>8</td>\n",
       "      <td>51.645403</td>\n",
       "      <td>[Drama, Crime]</td>\n",
       "      <td>7.864000</td>\n",
       "    </tr>\n",
       "    <tr>\n",
       "      <th>7000</th>\n",
       "      <td>The Lord of the Rings: The Return of the King</td>\n",
       "      <td>2003</td>\n",
       "      <td>8226</td>\n",
       "      <td>8</td>\n",
       "      <td>29.324358</td>\n",
       "      <td>[Adventure, Fantasy, Action]</td>\n",
       "      <td>7.861927</td>\n",
       "    </tr>\n",
       "    <tr>\n",
       "      <th>351</th>\n",
       "      <td>Forrest Gump</td>\n",
       "      <td>1994</td>\n",
       "      <td>8147</td>\n",
       "      <td>8</td>\n",
       "      <td>48.307194</td>\n",
       "      <td>[Comedy, Drama, Romance]</td>\n",
       "      <td>7.860656</td>\n",
       "    </tr>\n",
       "    <tr>\n",
       "      <th>5814</th>\n",
       "      <td>The Lord of the Rings: The Two Towers</td>\n",
       "      <td>2002</td>\n",
       "      <td>7641</td>\n",
       "      <td>8</td>\n",
       "      <td>29.423537</td>\n",
       "      <td>[Adventure, Fantasy, Action]</td>\n",
       "      <td>7.851924</td>\n",
       "    </tr>\n",
       "    <tr>\n",
       "      <th>256</th>\n",
       "      <td>Star Wars</td>\n",
       "      <td>1977</td>\n",
       "      <td>6778</td>\n",
       "      <td>8</td>\n",
       "      <td>42.149697</td>\n",
       "      <td>[Adventure, Action, Science Fiction]</td>\n",
       "      <td>7.834205</td>\n",
       "    </tr>\n",
       "    <tr>\n",
       "      <th>1225</th>\n",
       "      <td>Back to the Future</td>\n",
       "      <td>1985</td>\n",
       "      <td>6239</td>\n",
       "      <td>8</td>\n",
       "      <td>25.778509</td>\n",
       "      <td>[Adventure, Comedy, Science Fiction, Family]</td>\n",
       "      <td>7.820813</td>\n",
       "    </tr>\n",
       "    <tr>\n",
       "      <th>834</th>\n",
       "      <td>The Godfather</td>\n",
       "      <td>1972</td>\n",
       "      <td>6024</td>\n",
       "      <td>8</td>\n",
       "      <td>41.109264</td>\n",
       "      <td>[Drama, Crime]</td>\n",
       "      <td>7.814847</td>\n",
       "    </tr>\n",
       "    <tr>\n",
       "      <th>1154</th>\n",
       "      <td>The Empire Strikes Back</td>\n",
       "      <td>1980</td>\n",
       "      <td>5998</td>\n",
       "      <td>8</td>\n",
       "      <td>19.470959</td>\n",
       "      <td>[Adventure, Action, Science Fiction]</td>\n",
       "      <td>7.814099</td>\n",
       "    </tr>\n",
       "    <tr>\n",
       "      <th>46</th>\n",
       "      <td>Se7en</td>\n",
       "      <td>1995</td>\n",
       "      <td>5915</td>\n",
       "      <td>8</td>\n",
       "      <td>18.45743</td>\n",
       "      <td>[Crime, Mystery, Thriller]</td>\n",
       "      <td>7.811669</td>\n",
       "    </tr>\n",
       "  </tbody>\n",
       "</table>\n",
       "</div>"
      ],
      "text/plain": [
       "                                                   title  year  vote_count  \\\n",
       "15480                                          Inception  2010       14075   \n",
       "12481                                    The Dark Knight  2008       12269   \n",
       "22879                                       Interstellar  2014       11187   \n",
       "2843                                          Fight Club  1999        9678   \n",
       "4863   The Lord of the Rings: The Fellowship of the Ring  2001        8892   \n",
       "292                                         Pulp Fiction  1994        8670   \n",
       "314                             The Shawshank Redemption  1994        8358   \n",
       "7000       The Lord of the Rings: The Return of the King  2003        8226   \n",
       "351                                         Forrest Gump  1994        8147   \n",
       "5814               The Lord of the Rings: The Two Towers  2002        7641   \n",
       "256                                            Star Wars  1977        6778   \n",
       "1225                                  Back to the Future  1985        6239   \n",
       "834                                        The Godfather  1972        6024   \n",
       "1154                             The Empire Strikes Back  1980        5998   \n",
       "46                                                 Se7en  1995        5915   \n",
       "\n",
       "       vote_average  popularity  \\\n",
       "15480             8   29.108149   \n",
       "12481             8  123.167259   \n",
       "22879             8   32.213481   \n",
       "2843              8   63.869599   \n",
       "4863              8   32.070725   \n",
       "292               8  140.950236   \n",
       "314               8   51.645403   \n",
       "7000              8   29.324358   \n",
       "351               8   48.307194   \n",
       "5814              8   29.423537   \n",
       "256               8   42.149697   \n",
       "1225              8   25.778509   \n",
       "834               8   41.109264   \n",
       "1154              8   19.470959   \n",
       "46                8    18.45743   \n",
       "\n",
       "                                                  genres  FINAL OUTPUT  \n",
       "15480  [Action, Thriller, Science Fiction, Mystery, A...      7.917588  \n",
       "12481                   [Drama, Action, Crime, Thriller]      7.905871  \n",
       "22879                [Adventure, Drama, Science Fiction]      7.897107  \n",
       "2843                                             [Drama]      7.881753  \n",
       "4863                        [Adventure, Fantasy, Action]      7.871787  \n",
       "292                                    [Thriller, Crime]      7.868660  \n",
       "314                                       [Drama, Crime]      7.864000  \n",
       "7000                        [Adventure, Fantasy, Action]      7.861927  \n",
       "351                             [Comedy, Drama, Romance]      7.860656  \n",
       "5814                        [Adventure, Fantasy, Action]      7.851924  \n",
       "256                 [Adventure, Action, Science Fiction]      7.834205  \n",
       "1225        [Adventure, Comedy, Science Fiction, Family]      7.820813  \n",
       "834                                       [Drama, Crime]      7.814847  \n",
       "1154                [Adventure, Action, Science Fiction]      7.814099  \n",
       "46                            [Crime, Mystery, Thriller]      7.811669  "
      ]
     },
     "execution_count": 12,
     "metadata": {},
     "output_type": "execute_result"
    }
   ],
   "source": [
    "Top_movies.head(15)"
   ]
  },
  {
   "cell_type": "code",
   "execution_count": 13,
   "id": "e7652b82",
   "metadata": {
    "_cell_guid": "c6be871d-62d4-4ec4-abe4-6ca1b1c01fa0",
    "_uuid": "b59a35544efcd50e89e4bb1ea14bbfe32fc9bcd3",
    "execution": {
     "iopub.execute_input": "2023-05-22T14:47:27.751911Z",
     "iopub.status.busy": "2023-05-22T14:47:27.751107Z",
     "iopub.status.idle": "2023-05-22T14:47:44.754071Z",
     "shell.execute_reply": "2023-05-22T14:47:44.752826Z"
    },
    "papermill": {
     "duration": 17.023396,
     "end_time": "2023-05-22T14:47:44.756818",
     "exception": false,
     "start_time": "2023-05-22T14:47:27.733422",
     "status": "completed"
    },
    "tags": []
   },
   "outputs": [],
   "source": [
    "s = movie_data.apply(lambda x: pd.Series(x['genres']),axis=1).stack().reset_index(level=1, drop=True)\n",
    "s.name = 'genre'\n",
    "gen_movie_data = movie_data.drop('genres', axis=1).join(s)"
   ]
  },
  {
   "cell_type": "code",
   "execution_count": 14,
   "id": "ea6d272a",
   "metadata": {
    "_cell_guid": "759652cb-5b16-4951-995c-6a3bdbae0e4e",
    "_uuid": "1fdfea9cd4b046b11ff8f2ac4f2bea74fccb8a8b",
    "execution": {
     "iopub.execute_input": "2023-05-22T14:47:44.787442Z",
     "iopub.status.busy": "2023-05-22T14:47:44.787040Z",
     "iopub.status.idle": "2023-05-22T14:47:44.797101Z",
     "shell.execute_reply": "2023-05-22T14:47:44.795999Z"
    },
    "papermill": {
     "duration": 0.027933,
     "end_time": "2023-05-22T14:47:44.799602",
     "exception": false,
     "start_time": "2023-05-22T14:47:44.771669",
     "status": "completed"
    },
    "tags": []
   },
   "outputs": [],
   "source": [
    "def Recommendation(genre, percentile=0.85):\n",
    "    df = gen_movie_data[gen_movie_data['genre'] == genre]\n",
    "    vote_data = df[df['vote_count'].notnull()]['vote_count'].astype('int')\n",
    "    vote_averages = df[df['vote_average'].notnull()]['vote_average'].astype('int')\n",
    "    C = vote_averages.mean()\n",
    "    m = vote_data.quantile(percentile)\n",
    "    \n",
    "    Top_movies = df[(df['vote_count'] >= m) & (df['vote_count'].notnull()) & (df['vote_average'].notnull())][['title', 'year', 'vote_count', 'vote_average', 'popularity']]\n",
    "    Top_movies['vote_count'] = Top_movies['vote_count'].astype('int')\n",
    "    Top_movies['vote_average'] = Top_movies['vote_average'].astype('int')\n",
    "    \n",
    "    Top_movies['Expected_ratings'] = Top_movies.apply(lambda x: (x['vote_count']/(x['vote_count']+m) * x['vote_average']) + (m/(m+x['vote_count']) * C), axis=1)\n",
    "    Top_movies = Top_movies.sort_values('Expected_ratings', ascending=False).head(250)\n",
    "    \n",
    "    return Top_movies"
   ]
  },
  {
   "cell_type": "markdown",
   "id": "2fef55d3",
   "metadata": {
    "_cell_guid": "55f22de0-0df9-405a-9197-df5a8c0e8466",
    "_uuid": "a76ce0f8a8f614aa6f23cb9a6e0fd6af6d048642",
    "papermill": {
     "duration": 0.01371,
     "end_time": "2023-05-22T14:47:44.827876",
     "exception": false,
     "start_time": "2023-05-22T14:47:44.814166",
     "status": "completed"
    },
    "tags": []
   },
   "source": [
    "Let us see our method in action by displaying the Top 5 thriller Movies (Romance almost didn't feature at all in our Generic Top Chart despite  being one of the most popular movie genres).\n",
    "\n",
    "### Top Romance Movies"
   ]
  },
  {
   "cell_type": "code",
   "execution_count": 15,
   "id": "28a9296a",
   "metadata": {
    "_cell_guid": "af61da24-494b-48ac-b7b7-64ec0eaedaf8",
    "_uuid": "bf2816495a16de1bb84dc826fd33eee7e663f45d",
    "execution": {
     "iopub.execute_input": "2023-05-22T14:47:44.858152Z",
     "iopub.status.busy": "2023-05-22T14:47:44.857730Z",
     "iopub.status.idle": "2023-05-22T14:47:45.039205Z",
     "shell.execute_reply": "2023-05-22T14:47:45.038089Z"
    },
    "papermill": {
     "duration": 0.199536,
     "end_time": "2023-05-22T14:47:45.041697",
     "exception": false,
     "start_time": "2023-05-22T14:47:44.842161",
     "status": "completed"
    },
    "tags": []
   },
   "outputs": [
    {
     "data": {
      "text/html": [
       "<div>\n",
       "<style scoped>\n",
       "    .dataframe tbody tr th:only-of-type {\n",
       "        vertical-align: middle;\n",
       "    }\n",
       "\n",
       "    .dataframe tbody tr th {\n",
       "        vertical-align: top;\n",
       "    }\n",
       "\n",
       "    .dataframe thead th {\n",
       "        text-align: right;\n",
       "    }\n",
       "</style>\n",
       "<table border=\"1\" class=\"dataframe\">\n",
       "  <thead>\n",
       "    <tr style=\"text-align: right;\">\n",
       "      <th></th>\n",
       "      <th>title</th>\n",
       "      <th>year</th>\n",
       "      <th>vote_count</th>\n",
       "      <th>vote_average</th>\n",
       "      <th>popularity</th>\n",
       "      <th>Expected_ratings</th>\n",
       "    </tr>\n",
       "  </thead>\n",
       "  <tbody>\n",
       "    <tr>\n",
       "      <th>15480</th>\n",
       "      <td>Inception</td>\n",
       "      <td>2010</td>\n",
       "      <td>14075</td>\n",
       "      <td>8</td>\n",
       "      <td>29.108149</td>\n",
       "      <td>7.956460</td>\n",
       "    </tr>\n",
       "    <tr>\n",
       "      <th>12481</th>\n",
       "      <td>The Dark Knight</td>\n",
       "      <td>2008</td>\n",
       "      <td>12269</td>\n",
       "      <td>8</td>\n",
       "      <td>123.167259</td>\n",
       "      <td>7.950165</td>\n",
       "    </tr>\n",
       "    <tr>\n",
       "      <th>292</th>\n",
       "      <td>Pulp Fiction</td>\n",
       "      <td>1994</td>\n",
       "      <td>8670</td>\n",
       "      <td>8</td>\n",
       "      <td>140.950236</td>\n",
       "      <td>7.929996</td>\n",
       "    </tr>\n",
       "    <tr>\n",
       "      <th>46</th>\n",
       "      <td>Se7en</td>\n",
       "      <td>1995</td>\n",
       "      <td>5915</td>\n",
       "      <td>8</td>\n",
       "      <td>18.45743</td>\n",
       "      <td>7.898573</td>\n",
       "    </tr>\n",
       "    <tr>\n",
       "      <th>24860</th>\n",
       "      <td>The Imitation Game</td>\n",
       "      <td>2014</td>\n",
       "      <td>5895</td>\n",
       "      <td>8</td>\n",
       "      <td>31.59594</td>\n",
       "      <td>7.898242</td>\n",
       "    </tr>\n",
       "  </tbody>\n",
       "</table>\n",
       "</div>"
      ],
      "text/plain": [
       "                    title  year  vote_count  vote_average  popularity  \\\n",
       "15480           Inception  2010       14075             8   29.108149   \n",
       "12481     The Dark Knight  2008       12269             8  123.167259   \n",
       "292          Pulp Fiction  1994        8670             8  140.950236   \n",
       "46                  Se7en  1995        5915             8    18.45743   \n",
       "24860  The Imitation Game  2014        5895             8    31.59594   \n",
       "\n",
       "       Expected_ratings  \n",
       "15480          7.956460  \n",
       "12481          7.950165  \n",
       "292            7.929996  \n",
       "46             7.898573  \n",
       "24860          7.898242  "
      ]
     },
     "execution_count": 15,
     "metadata": {},
     "output_type": "execute_result"
    }
   ],
   "source": [
    "Recommendation('Thriller').head(5)"
   ]
  },
  {
   "cell_type": "markdown",
   "id": "40740d4d",
   "metadata": {
    "papermill": {
     "duration": 0.013786,
     "end_time": "2023-05-22T14:47:45.070491",
     "exception": false,
     "start_time": "2023-05-22T14:47:45.056705",
     "status": "completed"
    },
    "tags": []
   },
   "source": [
    "Movie Description Based Recommender."
   ]
  },
  {
   "cell_type": "code",
   "execution_count": 16,
   "id": "bc28f2df",
   "metadata": {
    "_cell_guid": "bd5f4440-f90d-46a4-8640-204541d99d40",
    "_uuid": "dc237e14c8346bdd51624d21b6b082399afd3062",
    "execution": {
     "iopub.execute_input": "2023-05-22T14:47:45.101263Z",
     "iopub.status.busy": "2023-05-22T14:47:45.100835Z",
     "iopub.status.idle": "2023-05-22T14:47:45.127867Z",
     "shell.execute_reply": "2023-05-22T14:47:45.126668Z"
    },
    "papermill": {
     "duration": 0.045504,
     "end_time": "2023-05-22T14:47:45.130650",
     "exception": false,
     "start_time": "2023-05-22T14:47:45.085146",
     "status": "completed"
    },
    "tags": []
   },
   "outputs": [],
   "source": [
    "Description_data = pd.read_csv('../input/links_small.csv')\n",
    "Description_data= Description_data[Description_data['tmdbId'].notnull()]['tmdbId'].astype('int')"
   ]
  },
  {
   "cell_type": "code",
   "execution_count": 17,
   "id": "d17d250c",
   "metadata": {
    "execution": {
     "iopub.execute_input": "2023-05-22T14:47:45.161789Z",
     "iopub.status.busy": "2023-05-22T14:47:45.160990Z",
     "iopub.status.idle": "2023-05-22T14:47:45.167861Z",
     "shell.execute_reply": "2023-05-22T14:47:45.167107Z"
    },
    "papermill": {
     "duration": 0.024629,
     "end_time": "2023-05-22T14:47:45.170004",
     "exception": false,
     "start_time": "2023-05-22T14:47:45.145375",
     "status": "completed"
    },
    "tags": []
   },
   "outputs": [
    {
     "data": {
      "text/plain": [
       "0      862\n",
       "1     8844\n",
       "2    15602\n",
       "3    31357\n",
       "4    11862\n",
       "Name: tmdbId, dtype: int64"
      ]
     },
     "execution_count": 17,
     "metadata": {},
     "output_type": "execute_result"
    }
   ],
   "source": [
    "Description_data.head()"
   ]
  },
  {
   "cell_type": "code",
   "execution_count": 18,
   "id": "0d70b3b0",
   "metadata": {
    "_cell_guid": "cda91291-c8d5-475a-8b0f-ab4030d29f62",
    "_uuid": "6c5af69fefa991d46594401a5eac0656e5980484",
    "execution": {
     "iopub.execute_input": "2023-05-22T14:47:45.201724Z",
     "iopub.status.busy": "2023-05-22T14:47:45.201042Z",
     "iopub.status.idle": "2023-05-22T14:47:45.227460Z",
     "shell.execute_reply": "2023-05-22T14:47:45.226258Z"
    },
    "papermill": {
     "duration": 0.045067,
     "end_time": "2023-05-22T14:47:45.230322",
     "exception": false,
     "start_time": "2023-05-22T14:47:45.185255",
     "status": "completed"
    },
    "tags": []
   },
   "outputs": [],
   "source": [
    "movie_data = movie_data.drop([19730, 29503, 35587])"
   ]
  },
  {
   "cell_type": "code",
   "execution_count": 19,
   "id": "27170862",
   "metadata": {
    "execution": {
     "iopub.execute_input": "2023-05-22T14:47:45.261127Z",
     "iopub.status.busy": "2023-05-22T14:47:45.260658Z",
     "iopub.status.idle": "2023-05-22T14:47:45.290190Z",
     "shell.execute_reply": "2023-05-22T14:47:45.289098Z"
    },
    "papermill": {
     "duration": 0.048215,
     "end_time": "2023-05-22T14:47:45.293071",
     "exception": false,
     "start_time": "2023-05-22T14:47:45.244856",
     "status": "completed"
    },
    "tags": []
   },
   "outputs": [
    {
     "data": {
      "text/html": [
       "<div>\n",
       "<style scoped>\n",
       "    .dataframe tbody tr th:only-of-type {\n",
       "        vertical-align: middle;\n",
       "    }\n",
       "\n",
       "    .dataframe tbody tr th {\n",
       "        vertical-align: top;\n",
       "    }\n",
       "\n",
       "    .dataframe thead th {\n",
       "        text-align: right;\n",
       "    }\n",
       "</style>\n",
       "<table border=\"1\" class=\"dataframe\">\n",
       "  <thead>\n",
       "    <tr style=\"text-align: right;\">\n",
       "      <th></th>\n",
       "      <th>adult</th>\n",
       "      <th>belongs_to_collection</th>\n",
       "      <th>budget</th>\n",
       "      <th>genres</th>\n",
       "      <th>homepage</th>\n",
       "      <th>id</th>\n",
       "      <th>imdb_id</th>\n",
       "      <th>original_language</th>\n",
       "      <th>original_title</th>\n",
       "      <th>overview</th>\n",
       "      <th>...</th>\n",
       "      <th>revenue</th>\n",
       "      <th>runtime</th>\n",
       "      <th>spoken_languages</th>\n",
       "      <th>status</th>\n",
       "      <th>tagline</th>\n",
       "      <th>title</th>\n",
       "      <th>video</th>\n",
       "      <th>vote_average</th>\n",
       "      <th>vote_count</th>\n",
       "      <th>year</th>\n",
       "    </tr>\n",
       "  </thead>\n",
       "  <tbody>\n",
       "    <tr>\n",
       "      <th>0</th>\n",
       "      <td>False</td>\n",
       "      <td>{'id': 10194, 'name': 'Toy Story Collection', ...</td>\n",
       "      <td>30000000</td>\n",
       "      <td>[Animation, Comedy, Family]</td>\n",
       "      <td>http://toystory.disney.com/toy-story</td>\n",
       "      <td>862</td>\n",
       "      <td>tt0114709</td>\n",
       "      <td>en</td>\n",
       "      <td>Toy Story</td>\n",
       "      <td>Led by Woody, Andy's toys live happily in his ...</td>\n",
       "      <td>...</td>\n",
       "      <td>373554033.0</td>\n",
       "      <td>81.0</td>\n",
       "      <td>[{'iso_639_1': 'en', 'name': 'English'}]</td>\n",
       "      <td>Released</td>\n",
       "      <td>NaN</td>\n",
       "      <td>Toy Story</td>\n",
       "      <td>False</td>\n",
       "      <td>7.7</td>\n",
       "      <td>5415.0</td>\n",
       "      <td>1995</td>\n",
       "    </tr>\n",
       "    <tr>\n",
       "      <th>1</th>\n",
       "      <td>False</td>\n",
       "      <td>NaN</td>\n",
       "      <td>65000000</td>\n",
       "      <td>[Adventure, Fantasy, Family]</td>\n",
       "      <td>NaN</td>\n",
       "      <td>8844</td>\n",
       "      <td>tt0113497</td>\n",
       "      <td>en</td>\n",
       "      <td>Jumanji</td>\n",
       "      <td>When siblings Judy and Peter discover an encha...</td>\n",
       "      <td>...</td>\n",
       "      <td>262797249.0</td>\n",
       "      <td>104.0</td>\n",
       "      <td>[{'iso_639_1': 'en', 'name': 'English'}, {'iso...</td>\n",
       "      <td>Released</td>\n",
       "      <td>Roll the dice and unleash the excitement!</td>\n",
       "      <td>Jumanji</td>\n",
       "      <td>False</td>\n",
       "      <td>6.9</td>\n",
       "      <td>2413.0</td>\n",
       "      <td>1995</td>\n",
       "    </tr>\n",
       "    <tr>\n",
       "      <th>2</th>\n",
       "      <td>False</td>\n",
       "      <td>{'id': 119050, 'name': 'Grumpy Old Men Collect...</td>\n",
       "      <td>0</td>\n",
       "      <td>[Romance, Comedy]</td>\n",
       "      <td>NaN</td>\n",
       "      <td>15602</td>\n",
       "      <td>tt0113228</td>\n",
       "      <td>en</td>\n",
       "      <td>Grumpier Old Men</td>\n",
       "      <td>A family wedding reignites the ancient feud be...</td>\n",
       "      <td>...</td>\n",
       "      <td>0.0</td>\n",
       "      <td>101.0</td>\n",
       "      <td>[{'iso_639_1': 'en', 'name': 'English'}]</td>\n",
       "      <td>Released</td>\n",
       "      <td>Still Yelling. Still Fighting. Still Ready for...</td>\n",
       "      <td>Grumpier Old Men</td>\n",
       "      <td>False</td>\n",
       "      <td>6.5</td>\n",
       "      <td>92.0</td>\n",
       "      <td>1995</td>\n",
       "    </tr>\n",
       "    <tr>\n",
       "      <th>3</th>\n",
       "      <td>False</td>\n",
       "      <td>NaN</td>\n",
       "      <td>16000000</td>\n",
       "      <td>[Comedy, Drama, Romance]</td>\n",
       "      <td>NaN</td>\n",
       "      <td>31357</td>\n",
       "      <td>tt0114885</td>\n",
       "      <td>en</td>\n",
       "      <td>Waiting to Exhale</td>\n",
       "      <td>Cheated on, mistreated and stepped on, the wom...</td>\n",
       "      <td>...</td>\n",
       "      <td>81452156.0</td>\n",
       "      <td>127.0</td>\n",
       "      <td>[{'iso_639_1': 'en', 'name': 'English'}]</td>\n",
       "      <td>Released</td>\n",
       "      <td>Friends are the people who let you be yourself...</td>\n",
       "      <td>Waiting to Exhale</td>\n",
       "      <td>False</td>\n",
       "      <td>6.1</td>\n",
       "      <td>34.0</td>\n",
       "      <td>1995</td>\n",
       "    </tr>\n",
       "    <tr>\n",
       "      <th>4</th>\n",
       "      <td>False</td>\n",
       "      <td>{'id': 96871, 'name': 'Father of the Bride Col...</td>\n",
       "      <td>0</td>\n",
       "      <td>[Comedy]</td>\n",
       "      <td>NaN</td>\n",
       "      <td>11862</td>\n",
       "      <td>tt0113041</td>\n",
       "      <td>en</td>\n",
       "      <td>Father of the Bride Part II</td>\n",
       "      <td>Just when George Banks has recovered from his ...</td>\n",
       "      <td>...</td>\n",
       "      <td>76578911.0</td>\n",
       "      <td>106.0</td>\n",
       "      <td>[{'iso_639_1': 'en', 'name': 'English'}]</td>\n",
       "      <td>Released</td>\n",
       "      <td>Just When His World Is Back To Normal... He's ...</td>\n",
       "      <td>Father of the Bride Part II</td>\n",
       "      <td>False</td>\n",
       "      <td>5.7</td>\n",
       "      <td>173.0</td>\n",
       "      <td>1995</td>\n",
       "    </tr>\n",
       "  </tbody>\n",
       "</table>\n",
       "<p>5 rows × 25 columns</p>\n",
       "</div>"
      ],
      "text/plain": [
       "   adult                              belongs_to_collection    budget  \\\n",
       "0  False  {'id': 10194, 'name': 'Toy Story Collection', ...  30000000   \n",
       "1  False                                                NaN  65000000   \n",
       "2  False  {'id': 119050, 'name': 'Grumpy Old Men Collect...         0   \n",
       "3  False                                                NaN  16000000   \n",
       "4  False  {'id': 96871, 'name': 'Father of the Bride Col...         0   \n",
       "\n",
       "                         genres                              homepage     id  \\\n",
       "0   [Animation, Comedy, Family]  http://toystory.disney.com/toy-story    862   \n",
       "1  [Adventure, Fantasy, Family]                                   NaN   8844   \n",
       "2             [Romance, Comedy]                                   NaN  15602   \n",
       "3      [Comedy, Drama, Romance]                                   NaN  31357   \n",
       "4                      [Comedy]                                   NaN  11862   \n",
       "\n",
       "     imdb_id original_language               original_title  \\\n",
       "0  tt0114709                en                    Toy Story   \n",
       "1  tt0113497                en                      Jumanji   \n",
       "2  tt0113228                en             Grumpier Old Men   \n",
       "3  tt0114885                en            Waiting to Exhale   \n",
       "4  tt0113041                en  Father of the Bride Part II   \n",
       "\n",
       "                                            overview  ...      revenue  \\\n",
       "0  Led by Woody, Andy's toys live happily in his ...  ...  373554033.0   \n",
       "1  When siblings Judy and Peter discover an encha...  ...  262797249.0   \n",
       "2  A family wedding reignites the ancient feud be...  ...          0.0   \n",
       "3  Cheated on, mistreated and stepped on, the wom...  ...   81452156.0   \n",
       "4  Just when George Banks has recovered from his ...  ...   76578911.0   \n",
       "\n",
       "  runtime                                   spoken_languages    status  \\\n",
       "0    81.0           [{'iso_639_1': 'en', 'name': 'English'}]  Released   \n",
       "1   104.0  [{'iso_639_1': 'en', 'name': 'English'}, {'iso...  Released   \n",
       "2   101.0           [{'iso_639_1': 'en', 'name': 'English'}]  Released   \n",
       "3   127.0           [{'iso_639_1': 'en', 'name': 'English'}]  Released   \n",
       "4   106.0           [{'iso_639_1': 'en', 'name': 'English'}]  Released   \n",
       "\n",
       "                                             tagline  \\\n",
       "0                                                NaN   \n",
       "1          Roll the dice and unleash the excitement!   \n",
       "2  Still Yelling. Still Fighting. Still Ready for...   \n",
       "3  Friends are the people who let you be yourself...   \n",
       "4  Just When His World Is Back To Normal... He's ...   \n",
       "\n",
       "                         title  video vote_average vote_count  year  \n",
       "0                    Toy Story  False          7.7     5415.0  1995  \n",
       "1                      Jumanji  False          6.9     2413.0  1995  \n",
       "2             Grumpier Old Men  False          6.5       92.0  1995  \n",
       "3            Waiting to Exhale  False          6.1       34.0  1995  \n",
       "4  Father of the Bride Part II  False          5.7      173.0  1995  \n",
       "\n",
       "[5 rows x 25 columns]"
      ]
     },
     "execution_count": 19,
     "metadata": {},
     "output_type": "execute_result"
    }
   ],
   "source": [
    "movie_data.head()"
   ]
  },
  {
   "cell_type": "code",
   "execution_count": 20,
   "id": "0cf18daf",
   "metadata": {
    "_cell_guid": "f68cb861-7c30-4b3d-b655-520379e61d70",
    "_uuid": "87eb84540a3c22a3f7bf54edeee5b491ef571416",
    "execution": {
     "iopub.execute_input": "2023-05-22T14:47:45.325102Z",
     "iopub.status.busy": "2023-05-22T14:47:45.324436Z",
     "iopub.status.idle": "2023-05-22T14:47:45.346219Z",
     "shell.execute_reply": "2023-05-22T14:47:45.345217Z"
    },
    "papermill": {
     "duration": 0.04114,
     "end_time": "2023-05-22T14:47:45.349232",
     "exception": false,
     "start_time": "2023-05-22T14:47:45.308092",
     "status": "completed"
    },
    "tags": []
   },
   "outputs": [],
   "source": [
    "#Check EDA Notebook for how and why I got these indices.\n",
    "movie_data['id'] = movie_data['id'].astype('int')"
   ]
  },
  {
   "cell_type": "code",
   "execution_count": 21,
   "id": "b3ebce26",
   "metadata": {
    "_cell_guid": "0b968a6a-6b0d-4df6-9e28-91c06e6c36c2",
    "_uuid": "3f2a7f55a030beeb06b713f854e4ca6a69b5ca13",
    "execution": {
     "iopub.execute_input": "2023-05-22T14:47:45.381682Z",
     "iopub.status.busy": "2023-05-22T14:47:45.381246Z",
     "iopub.status.idle": "2023-05-22T14:47:45.396479Z",
     "shell.execute_reply": "2023-05-22T14:47:45.395427Z"
    },
    "papermill": {
     "duration": 0.034367,
     "end_time": "2023-05-22T14:47:45.398671",
     "exception": false,
     "start_time": "2023-05-22T14:47:45.364304",
     "status": "completed"
    },
    "tags": []
   },
   "outputs": [
    {
     "data": {
      "text/plain": [
       "(9099, 25)"
      ]
     },
     "execution_count": 21,
     "metadata": {},
     "output_type": "execute_result"
    }
   ],
   "source": [
    "Meta_data = movie_data[movie_data['id'].isin(Description_data)]\n",
    "Meta_data.shape"
   ]
  },
  {
   "cell_type": "markdown",
   "id": "78e2f0d3",
   "metadata": {
    "_cell_guid": "1e73645a-0b0b-441f-93b4-ce92069e1852",
    "_uuid": "c41800b7a9d8b8d48ba1c22b8430929f54e9884e",
    "papermill": {
     "duration": 0.014614,
     "end_time": "2023-05-22T14:47:45.428334",
     "exception": false,
     "start_time": "2023-05-22T14:47:45.413720",
     "status": "completed"
    },
    "tags": []
   },
   "source": [
    "### Movie Description Based Recommender\n",
    "\n"
   ]
  },
  {
   "cell_type": "code",
   "execution_count": 22,
   "id": "49124b8c",
   "metadata": {
    "_cell_guid": "c880adf9-051b-40cd-8e95-cd8c4acabb17",
    "_uuid": "453bdc941ba5a1e86e17b0f106dc44040c0defdf",
    "execution": {
     "iopub.execute_input": "2023-05-22T14:47:45.460677Z",
     "iopub.status.busy": "2023-05-22T14:47:45.460032Z",
     "iopub.status.idle": "2023-05-22T14:47:45.480374Z",
     "shell.execute_reply": "2023-05-22T14:47:45.479433Z"
    },
    "papermill": {
     "duration": 0.039532,
     "end_time": "2023-05-22T14:47:45.483136",
     "exception": false,
     "start_time": "2023-05-22T14:47:45.443604",
     "status": "completed"
    },
    "tags": []
   },
   "outputs": [],
   "source": [
    "Meta_data['tagline'] = Meta_data['tagline'].fillna('')\n",
    "Meta_data['description'] = Meta_data['overview'] + Meta_data['tagline']\n",
    "Meta_data['description'] = Meta_data['description'].fillna('')"
   ]
  },
  {
   "cell_type": "code",
   "execution_count": 23,
   "id": "0543eb58",
   "metadata": {
    "_cell_guid": "6b385623-a978-43c4-b66a-813d5e9c6790",
    "_uuid": "f9d99726d9f2667fa6fc15ce5c5e31d36a970828",
    "execution": {
     "iopub.execute_input": "2023-05-22T14:47:45.515346Z",
     "iopub.status.busy": "2023-05-22T14:47:45.514654Z",
     "iopub.status.idle": "2023-05-22T14:47:47.840008Z",
     "shell.execute_reply": "2023-05-22T14:47:47.838786Z"
    },
    "papermill": {
     "duration": 2.344664,
     "end_time": "2023-05-22T14:47:47.842875",
     "exception": false,
     "start_time": "2023-05-22T14:47:45.498211",
     "status": "completed"
    },
    "tags": []
   },
   "outputs": [],
   "source": [
    "Vectorizer = TfidfVectorizer(analyzer='word',ngram_range=(1, 2),min_df=0, stop_words='english')\n",
    "Vectorizer_matrix = Vectorizer.fit_transform(Meta_data['description'])\n"
   ]
  },
  {
   "cell_type": "code",
   "execution_count": 24,
   "id": "fe19c9a5",
   "metadata": {
    "_cell_guid": "5e18427c-2ef8-4a98-84e2-323a4af72ade",
    "_uuid": "6c21cc05d3c13ea637028f2e5836c719986e47c7",
    "execution": {
     "iopub.execute_input": "2023-05-22T14:47:47.874816Z",
     "iopub.status.busy": "2023-05-22T14:47:47.874364Z",
     "iopub.status.idle": "2023-05-22T14:47:47.881739Z",
     "shell.execute_reply": "2023-05-22T14:47:47.880591Z"
    },
    "papermill": {
     "duration": 0.026173,
     "end_time": "2023-05-22T14:47:47.884267",
     "exception": false,
     "start_time": "2023-05-22T14:47:47.858094",
     "status": "completed"
    },
    "tags": []
   },
   "outputs": [
    {
     "data": {
      "text/plain": [
       "(9099, 268124)"
      ]
     },
     "execution_count": 24,
     "metadata": {},
     "output_type": "execute_result"
    }
   ],
   "source": [
    "Vectorizer_matrix.shape"
   ]
  },
  {
   "cell_type": "markdown",
   "id": "01e3a84b",
   "metadata": {
    "_cell_guid": "7d4db389-9f30-46e9-b8af-69fe9b40ada5",
    "_uuid": "1a98e05af67de3475999e1891d965ce9f73ce316",
    "papermill": {
     "duration": 0.014907,
     "end_time": "2023-05-22T14:47:47.914436",
     "exception": false,
     "start_time": "2023-05-22T14:47:47.899529",
     "status": "completed"
    },
    "tags": []
   },
   "source": [
    "#### Cosine similarity\n",
    "Cosine Similarity to calculate a numeric quantity that denotes the similarity between two movies. Mathematically, it is defined as follows:\n",
    "\n",
    "$cosine(x,y) = \\frac{x. y^\\intercal}{||x||.||y||} $\n",
    "\n",
    " we will use sklearn's **linear_kernel** instead of cosine_similarities since it is much faster."
   ]
  },
  {
   "cell_type": "code",
   "execution_count": 25,
   "id": "7c1f5293",
   "metadata": {
    "_cell_guid": "8b27b34f-a585-42bf-b35f-1de4e9181fce",
    "_uuid": "e324c0e951287359f7810a3da85631ebc7725c53",
    "execution": {
     "iopub.execute_input": "2023-05-22T14:47:47.946730Z",
     "iopub.status.busy": "2023-05-22T14:47:47.946318Z",
     "iopub.status.idle": "2023-05-22T14:47:50.164123Z",
     "shell.execute_reply": "2023-05-22T14:47:50.162956Z"
    },
    "papermill": {
     "duration": 2.237125,
     "end_time": "2023-05-22T14:47:50.166959",
     "exception": false,
     "start_time": "2023-05-22T14:47:47.929834",
     "status": "completed"
    },
    "tags": []
   },
   "outputs": [],
   "source": [
    "cosine_sim = linear_kernel(Vectorizer_matrix, Vectorizer_matrix)"
   ]
  },
  {
   "cell_type": "code",
   "execution_count": 26,
   "id": "bfc919cf",
   "metadata": {
    "_cell_guid": "148a994f-3e7f-4350-9ea3-41eb95f106e8",
    "_uuid": "ebb6823a9dce997d965dc89049a06512cbfb17af",
    "execution": {
     "iopub.execute_input": "2023-05-22T14:47:50.201192Z",
     "iopub.status.busy": "2023-05-22T14:47:50.200120Z",
     "iopub.status.idle": "2023-05-22T14:47:50.208591Z",
     "shell.execute_reply": "2023-05-22T14:47:50.207258Z"
    },
    "papermill": {
     "duration": 0.02859,
     "end_time": "2023-05-22T14:47:50.211100",
     "exception": false,
     "start_time": "2023-05-22T14:47:50.182510",
     "status": "completed"
    },
    "tags": []
   },
   "outputs": [
    {
     "data": {
      "text/plain": [
       "array([[1.        , 0.00680476, 0.        , ..., 0.        , 0.00344913,\n",
       "        0.        ],\n",
       "       [0.00680476, 1.        , 0.01531062, ..., 0.00357057, 0.00762326,\n",
       "        0.        ],\n",
       "       [0.        , 0.01531062, 1.        , ..., 0.        , 0.00286535,\n",
       "        0.00472155],\n",
       "       ...,\n",
       "       [0.        , 0.00357057, 0.        , ..., 1.        , 0.07811616,\n",
       "        0.        ],\n",
       "       [0.00344913, 0.00762326, 0.00286535, ..., 0.07811616, 1.        ,\n",
       "        0.        ],\n",
       "       [0.        , 0.        , 0.00472155, ..., 0.        , 0.        ,\n",
       "        1.        ]])"
      ]
     },
     "execution_count": 26,
     "metadata": {},
     "output_type": "execute_result"
    }
   ],
   "source": [
    "cosine_sim[0:]"
   ]
  },
  {
   "cell_type": "markdown",
   "id": "e195c270",
   "metadata": {
    "_cell_guid": "f4001114-a1c6-4762-b0cf-64eb4f2658ac",
    "_uuid": "b7a65051edc24edfe6e2afaf3a9c3a148af5bcaf",
    "papermill": {
     "duration": 0.014782,
     "end_time": "2023-05-22T14:47:50.241168",
     "exception": false,
     "start_time": "2023-05-22T14:47:50.226386",
     "status": "completed"
    },
    "tags": []
   },
   "source": [
    "We now have a pairwise cosine similarity matrix for all the movies in our dataset. The next step is to write a function that returns the 30 most similar movies based on the cosine similarity score."
   ]
  },
  {
   "cell_type": "code",
   "execution_count": 27,
   "id": "9a2222a4",
   "metadata": {
    "_cell_guid": "446d22fd-e7c1-42a6-851b-593f60175ce0",
    "_uuid": "ff016d61895e99fe7b0495c51b86917bdbe2712d",
    "execution": {
     "iopub.execute_input": "2023-05-22T14:47:50.273331Z",
     "iopub.status.busy": "2023-05-22T14:47:50.272900Z",
     "iopub.status.idle": "2023-05-22T14:47:50.289767Z",
     "shell.execute_reply": "2023-05-22T14:47:50.288620Z"
    },
    "papermill": {
     "duration": 0.035822,
     "end_time": "2023-05-22T14:47:50.292303",
     "exception": false,
     "start_time": "2023-05-22T14:47:50.256481",
     "status": "completed"
    },
    "tags": []
   },
   "outputs": [],
   "source": [
    "Meta_data = Meta_data.reset_index()\n",
    "titles = Meta_data['title']\n",
    "indices = pd.Series(Meta_data.index, index=Meta_data['title'])"
   ]
  },
  {
   "cell_type": "code",
   "execution_count": 28,
   "id": "7af43624",
   "metadata": {
    "_cell_guid": "d7352ae7-fbc3-4459-b257-76a44000ce6a",
    "_uuid": "62f49212a8b935ef63a3643e1bb6f629521f05b7",
    "execution": {
     "iopub.execute_input": "2023-05-22T14:47:50.325271Z",
     "iopub.status.busy": "2023-05-22T14:47:50.324824Z",
     "iopub.status.idle": "2023-05-22T14:47:50.331506Z",
     "shell.execute_reply": "2023-05-22T14:47:50.330256Z"
    },
    "papermill": {
     "duration": 0.025843,
     "end_time": "2023-05-22T14:47:50.334042",
     "exception": false,
     "start_time": "2023-05-22T14:47:50.308199",
     "status": "completed"
    },
    "tags": []
   },
   "outputs": [],
   "source": [
    "def get_predictions(title):\n",
    "    idx = indices[title]\n",
    "    sim_scores = list(enumerate(cosine_sim[idx]))\n",
    "    sim_scores = sorted(sim_scores, key=lambda x: x[1], reverse=True)\n",
    "    sim_scores = sim_scores[1:31]\n",
    "    movie_indices = [i[0] for i in sim_scores]\n",
    "    return titles.iloc[movie_indices]"
   ]
  },
  {
   "cell_type": "markdown",
   "id": "7d1f4cd3",
   "metadata": {
    "papermill": {
     "duration": 0.014974,
     "end_time": "2023-05-22T14:47:50.365679",
     "exception": false,
     "start_time": "2023-05-22T14:47:50.350705",
     "status": "completed"
    },
    "tags": []
   },
   "source": [
    "the output\n"
   ]
  },
  {
   "cell_type": "code",
   "execution_count": 29,
   "id": "d9499d98",
   "metadata": {
    "execution": {
     "iopub.execute_input": "2023-05-22T14:47:50.398645Z",
     "iopub.status.busy": "2023-05-22T14:47:50.398249Z",
     "iopub.status.idle": "2023-05-22T14:47:50.419454Z",
     "shell.execute_reply": "2023-05-22T14:47:50.418294Z"
    },
    "papermill": {
     "duration": 0.040742,
     "end_time": "2023-05-22T14:47:50.421888",
     "exception": false,
     "start_time": "2023-05-22T14:47:50.381146",
     "status": "completed"
    },
    "tags": []
   },
   "outputs": [
    {
     "data": {
      "text/plain": [
       "973     The Godfather: Part II\n",
       "8387                The Family\n",
       "3509                      Made\n",
       "4196        Johnny Dangerously\n",
       "29              Shanghai Triad\n",
       "Name: title, dtype: object"
      ]
     },
     "execution_count": 29,
     "metadata": {},
     "output_type": "execute_result"
    }
   ],
   "source": [
    "get_predictions('The Godfather').head(5)"
   ]
  },
  {
   "cell_type": "code",
   "execution_count": 30,
   "id": "a9b06fd0",
   "metadata": {
    "execution": {
     "iopub.execute_input": "2023-05-22T14:47:50.454632Z",
     "iopub.status.busy": "2023-05-22T14:47:50.454235Z",
     "iopub.status.idle": "2023-05-22T14:47:50.472330Z",
     "shell.execute_reply": "2023-05-22T14:47:50.471338Z"
    },
    "papermill": {
     "duration": 0.037469,
     "end_time": "2023-05-22T14:47:50.474742",
     "exception": false,
     "start_time": "2023-05-22T14:47:50.437273",
     "status": "completed"
    },
    "tags": []
   },
   "outputs": [
    {
     "data": {
      "text/plain": [
       "7931                      The Dark Knight Rises\n",
       "132                              Batman Forever\n",
       "1113                             Batman Returns\n",
       "8227    Batman: The Dark Knight Returns, Part 2\n",
       "7565                 Batman: Under the Red Hood\n",
       "Name: title, dtype: object"
      ]
     },
     "execution_count": 30,
     "metadata": {},
     "output_type": "execute_result"
    }
   ],
   "source": [
    "get_predictions('The Dark Knight').head(5)"
   ]
  },
  {
   "cell_type": "markdown",
   "id": "62b40583",
   "metadata": {
    "papermill": {
     "duration": 0.015229,
     "end_time": "2023-05-22T14:47:50.505538",
     "exception": false,
     "start_time": "2023-05-22T14:47:50.490309",
     "status": "completed"
    },
    "tags": []
   },
   "source": [
    "this is how we get recommendations"
   ]
  }
 ],
 "metadata": {
  "kernelspec": {
   "display_name": "Python 3",
   "language": "python",
   "name": "python3"
  },
  "language_info": {
   "codemirror_mode": {
    "name": "ipython",
    "version": 3
   },
   "file_extension": ".py",
   "mimetype": "text/x-python",
   "name": "python",
   "nbconvert_exporter": "python",
   "pygments_lexer": "ipython3",
   "version": "3.10.10"
  },
  "papermill": {
   "default_parameters": {},
   "duration": 42.7365,
   "end_time": "2023-05-22T14:47:51.744897",
   "environment_variables": {},
   "exception": null,
   "input_path": "__notebook__.ipynb",
   "output_path": "__notebook__.ipynb",
   "parameters": {},
   "start_time": "2023-05-22T14:47:09.008397",
   "version": "2.4.0"
  }
 },
 "nbformat": 4,
 "nbformat_minor": 5
}
